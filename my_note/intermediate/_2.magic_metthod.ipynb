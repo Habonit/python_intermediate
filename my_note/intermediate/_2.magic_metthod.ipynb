{
 "cells": [
  {
   "cell_type": "code",
   "execution_count": null,
   "metadata": {},
   "outputs": [
    {
     "name": "stdout",
     "output_type": "stream",
     "text": [
      "<class 'int'>\n",
      "<class 'float'>\n",
      "<class 'bool'>\n",
      "\n",
      "['__abs__', '__add__', '__and__', '__bool__', '__ceil__', '__class__', '__delattr__', '__dir__', '__divmod__', '__doc__', '__eq__', '__float__', '__floor__', '__floordiv__', '__format__', '__ge__', '__getattribute__', '__getnewargs__', '__gt__', '__hash__', '__index__', '__init__', '__init_subclass__', '__int__', '__invert__', '__le__', '__lshift__', '__lt__', '__mod__', '__mul__', '__ne__', '__neg__', '__new__', '__or__', '__pos__', '__pow__', '__radd__', '__rand__', '__rdivmod__', '__reduce__', '__reduce_ex__', '__repr__', '__rfloordiv__', '__rlshift__', '__rmod__', '__rmul__', '__ror__', '__round__', '__rpow__', '__rrshift__', '__rshift__', '__rsub__', '__rtruediv__', '__rxor__', '__setattr__', '__sizeof__', '__str__', '__sub__', '__subclasshook__', '__truediv__', '__trunc__', '__xor__', 'as_integer_ratio', 'bit_length', 'conjugate', 'denominator', 'from_bytes', 'imag', 'numerator', 'real', 'to_bytes']\n"
     ]
    }
   ],
   "source": [
    "\n",
    "# int, float 등 아무렇지 않게 함수처럼 사용했던 것들이 사실 class였다.\n",
    "print(int)\n",
    "print(float)\n",
    "print(bool)\n",
    "print()\n",
    "\n",
    "# magic method를 출력해보니 다음과 같다.\n",
    "print(dir(int))"
   ]
  },
  {
   "cell_type": "code",
   "execution_count": 8,
   "metadata": {},
   "outputs": [
    {
     "name": "stdout",
     "output_type": "stream",
     "text": [
      "30\n",
      "30\n",
      "True True\n",
      "1000 1000\n",
      "bool(x) -> bool\n",
      "\n",
      "Returns True when the argument x is true, False otherwise.\n",
      "The builtins True and False are the only two instances of the class bool.\n",
      "The class bool is a subclass of the class int, and cannot be subclassed.\n"
     ]
    }
   ],
   "source": [
    "# +,-,<=,>=,* 등의 연산은 모두 magic method이다.\n",
    "n = 10\n",
    "m = 20\n",
    "print(n+m)\n",
    "print(n.__add__(m))\n",
    "# bool은 magic method로도 있으며, class로도 있다. \n",
    "print(n.__bool__(), bool(n))\n",
    "print(n * 100, n.__mul__(100))\n",
    "print(bool.__doc__)"
   ]
  },
  {
   "cell_type": "code",
   "execution_count": null,
   "metadata": {},
   "outputs": [
    {
     "name": "stdout",
     "output_type": "stream",
     "text": [
      "Current Fruit Nums: 1\n",
      "Current Fruit Nums: 2\n",
      "Called >> __ge__Method\n",
      "True\n",
      "Called >> __le__ Method.\n",
      "False\n",
      "Called >> __sub__ Method.\n",
      "4500\n",
      "Called >> __sub__ Method.\n",
      "-4500\n",
      "{'_name': 'Orange', '_price': 7500}\n"
     ]
    }
   ],
   "source": [
    "class Fruit:\n",
    "    nums = 0\n",
    "    def __init__(self, name, price):\n",
    "        self._name = name\n",
    "        self._price = price\n",
    "        Fruit.nums += 1\n",
    "        Fruit.get_nums()\n",
    "   \n",
    "    def __str__(self):\n",
    "        return \"Fruit Class Info: {} , {}\".format(self._name, self._price)\n",
    "    \n",
    "    def __ge__(self, x):\n",
    "        print(\"Called >> __ge__Method\")\n",
    "        if self._price >= x._price:\n",
    "            return True\n",
    "        else:\n",
    "            return False\n",
    "        \n",
    "    def __le__(self, x):\n",
    "        print('Called >> __le__ Method.')\n",
    "        if self._price <= x._price:\n",
    "            return True\n",
    "        else:\n",
    "            return False\n",
    "        \n",
    "    def __sub__(self, x):\n",
    "        print('Called >> __sub__ Method.')\n",
    "        return self._price - x._price\n",
    "    \n",
    "    @classmethod\n",
    "    def get_nums(cls):\n",
    "        print(\"Current Fruit Nums: {}\".format(Fruit.nums))\n",
    "\n",
    "# magit method 자체를 수정했기에 아래가 가능    \n",
    "s1 = Fruit(\"Orange\", 7500)\n",
    "s2 = Fruit(\"Banana\", 3000)\n",
    "\n",
    "print(s1 >= s2)\n",
    "print(s1 <= s2)\n",
    "print(s1 - s2)\n",
    "print(s2 - s1)\n",
    "\n",
    "print(s1.__dict__)"
   ]
  },
  {
   "cell_type": "code",
   "execution_count": 23,
   "metadata": {},
   "outputs": [
    {
     "name": "stdout",
     "output_type": "stream",
     "text": [
      "Vector(5, 7)\n",
      "\n",
      "        Create a vector, example : v = Vector(5,10)\n",
      "        \n",
      "Vector(15, 21)\n",
      "{'_x': 0, '_y': 0}\n"
     ]
    }
   ],
   "source": [
    "# camel style로 클래스를 작성할 것\n",
    "class Vector:\n",
    "    def __init__(self, *args):\n",
    "        '''\n",
    "        Create a vector, example : v = Vector(5,10)\n",
    "        '''\n",
    "        if len(args) == 0:\n",
    "            self._x, self._y = 0, 0\n",
    "        else:\n",
    "            self._x, self._y = args\n",
    "    def __repr__(self):\n",
    "        \"\"\"\n",
    "        Returns the vector informations\n",
    "        \"\"\"    \n",
    "        return 'Vector(%r, %r)' % (self._x, self._y)\n",
    "    def __add__(self, other):\n",
    "        \"\"\"\n",
    "        Returns the vector addition of self and other\n",
    "        \"\"\"\n",
    "        return Vector(self._x + other._x, self._y + other._y)\n",
    "    \n",
    "    def __mul__(self, y):\n",
    "        return Vector(self._x * y, self._y * y)\n",
    "    \n",
    "    def __boll__(self):\n",
    "        return bool(max(self._x, self._y))\n",
    "\n",
    "# Vector 인스턴스 생성\n",
    "v1 = Vector(5,7)    \n",
    "v2 = Vector(23, 35)\n",
    "v3 = Vector()\n",
    "\n",
    "print(v1)\n",
    "print(Vector.__init__.__doc__)\n",
    "\n",
    "print(v1 * 3)\n",
    "\n",
    "print(v3.__dict__)"
   ]
  },
  {
   "cell_type": "code",
   "execution_count": null,
   "metadata": {},
   "outputs": [
    {
     "name": "stdout",
     "output_type": "stream",
     "text": [
      " 23           0 LOAD_GLOBAL              0 (Vector)\n",
      "              2 LOAD_FAST                0 (self)\n",
      "              4 LOAD_ATTR                1 (_x)\n",
      "              6 LOAD_FAST                1 (y)\n",
      "              8 BINARY_MULTIPLY\n",
      "             10 LOAD_FAST                0 (self)\n",
      "             12 LOAD_ATTR                2 (_y)\n",
      "             14 LOAD_FAST                1 (y)\n",
      "             16 BINARY_MULTIPLY\n",
      "             18 CALL_FUNCTION            2\n",
      "             20 RETURN_VALUE\n"
     ]
    }
   ],
   "source": [
    "# 이건 아직 뭔지 잘 모르겠다. \n",
    "import dis\n",
    "\n",
    "dis.dis(v2.__mul__)"
   ]
  },
  {
   "cell_type": "code",
   "execution_count": null,
   "metadata": {},
   "outputs": [],
   "source": [
    "## named tuple\n",
    "\n",
    "pt1 = (1.0, 5.0)\n",
    "pt2 = (2.5, 1.5)\n",
    "\n",
    "# 아래는 두 점 사이 거리 공식을 일반적인 tuple을 가지고 index 접근 방식으로 구현한 것이다\n",
    "from math import sqrt\n",
    "\n",
    "l_leng1 = sqrt((pt2[0] - pt1[0]) ** 2 + (pt2[1] - pt1[1]) ** 2)\n",
    "\n",
    "print(l_leng1)"
   ]
  },
  {
   "cell_type": "code",
   "execution_count": null,
   "metadata": {},
   "outputs": [
    {
     "name": "stdout",
     "output_type": "stream",
     "text": [
      "Point(x=10, y=35)\n",
      "10 35\n",
      "('x', 'y')\n",
      "{'x': 52, 'y': 38}\n"
     ]
    }
   ],
   "source": [
    "# tuple이 데이터의 수정이 안 되어서 안정적으로 코드 관리를 할 수 있다.\n",
    "# 단, 각 요소의 특징이 드러나지 않기 때문에, dict의 장점인 명확함과 tuple의 장점인 immutable함을 모두 가져왔다고 할 수 있다. \n",
    "from collections import namedtuple\n",
    "\n",
    "# namedtuple은 Class 처럼 인식되기 때문에, 변수처리할 때 camel style로 한다.\n",
    "# Point = namedtuple(\"Point\", [\"x\", \"y\"])\n",
    "# Point = namedtuple(\"Point\", \"x y\")\n",
    "Point = namedtuple(\"Point\", \"x, y\")\n",
    "\n",
    "p = Point(x=10, y=35)\n",
    "print(p)\n",
    "a,b = p\n",
    "print(a,b)\n",
    "temp = [52,38]\n",
    "# 리스트를 받아서 named tuple로 만들 수 있음\n",
    "p1 = Point._make(temp)\n",
    "\n",
    "# _fields: 필드의 이름을 확인, 여기선 x,y\n",
    "print(p1._fields)\n",
    "\n",
    "# _asdicit(): OrderedDict 반환\n",
    "print(p1._asdict())"
   ]
  },
  {
   "cell_type": "code",
   "execution_count": 43,
   "metadata": {},
   "outputs": [
    {
     "name": "stdout",
     "output_type": "stream",
     "text": [
      "[Classes(rank='A', number='1'), Classes(rank='A', number='2'), Classes(rank='A', number='3'), Classes(rank='A', number='4'), Classes(rank='A', number='5'), Classes(rank='A', number='6'), Classes(rank='A', number='7'), Classes(rank='A', number='8'), Classes(rank='A', number='9'), Classes(rank='A', number='10'), Classes(rank='A', number='11'), Classes(rank='A', number='12'), Classes(rank='A', number='13'), Classes(rank='A', number='14'), Classes(rank='A', number='15'), Classes(rank='A', number='16'), Classes(rank='A', number='17'), Classes(rank='A', number='18'), Classes(rank='A', number='19'), Classes(rank='A', number='20'), Classes(rank='B', number='1'), Classes(rank='B', number='2'), Classes(rank='B', number='3'), Classes(rank='B', number='4'), Classes(rank='B', number='5'), Classes(rank='B', number='6'), Classes(rank='B', number='7'), Classes(rank='B', number='8'), Classes(rank='B', number='9'), Classes(rank='B', number='10'), Classes(rank='B', number='11'), Classes(rank='B', number='12'), Classes(rank='B', number='13'), Classes(rank='B', number='14'), Classes(rank='B', number='15'), Classes(rank='B', number='16'), Classes(rank='B', number='17'), Classes(rank='B', number='18'), Classes(rank='B', number='19'), Classes(rank='B', number='20'), Classes(rank='C', number='1'), Classes(rank='C', number='2'), Classes(rank='C', number='3'), Classes(rank='C', number='4'), Classes(rank='C', number='5'), Classes(rank='C', number='6'), Classes(rank='C', number='7'), Classes(rank='C', number='8'), Classes(rank='C', number='9'), Classes(rank='C', number='10'), Classes(rank='C', number='11'), Classes(rank='C', number='12'), Classes(rank='C', number='13'), Classes(rank='C', number='14'), Classes(rank='C', number='15'), Classes(rank='C', number='16'), Classes(rank='C', number='17'), Classes(rank='C', number='18'), Classes(rank='C', number='19'), Classes(rank='C', number='20'), Classes(rank='D', number='1'), Classes(rank='D', number='2'), Classes(rank='D', number='3'), Classes(rank='D', number='4'), Classes(rank='D', number='5'), Classes(rank='D', number='6'), Classes(rank='D', number='7'), Classes(rank='D', number='8'), Classes(rank='D', number='9'), Classes(rank='D', number='10'), Classes(rank='D', number='11'), Classes(rank='D', number='12'), Classes(rank='D', number='13'), Classes(rank='D', number='14'), Classes(rank='D', number='15'), Classes(rank='D', number='16'), Classes(rank='D', number='17'), Classes(rank='D', number='18'), Classes(rank='D', number='19'), Classes(rank='D', number='20')]\n"
     ]
    }
   ],
   "source": [
    "Classes = namedtuple('Classes', [\"rank\", \"number\"])\n",
    "students = [Classes(rank, number)\n",
    "                for rank in ['A',\"B\", \"C\", \"D\"]\n",
    "                    for number in [str(n)\n",
    "                        for n in range(1,21)]]\n",
    "\n",
    "print(students)"
   ]
  },
  {
   "cell_type": "code",
   "execution_count": null,
   "metadata": {},
   "outputs": [],
   "source": []
  }
 ],
 "metadata": {
  "kernelspec": {
   "display_name": ".env",
   "language": "python",
   "name": "python3"
  },
  "language_info": {
   "codemirror_mode": {
    "name": "ipython",
    "version": 3
   },
   "file_extension": ".py",
   "mimetype": "text/x-python",
   "name": "python",
   "nbconvert_exporter": "python",
   "pygments_lexer": "ipython3",
   "version": "3.9.20"
  }
 },
 "nbformat": 4,
 "nbformat_minor": 2
}
