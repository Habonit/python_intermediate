{
 "cells": [
  {
   "cell_type": "code",
   "execution_count": 1,
   "metadata": {},
   "outputs": [
    {
     "name": "stdout",
     "output_type": "stream",
     "text": [
      "<class 'builtin_function_or_method'>\n",
      "[43, 95, 41, 40, 42, 38, 94, 37, 36, 35, 64, 33, 126, 41]\n",
      "[43, 95, 41, 42, 94, 64, 126, 41]\n",
      "\n",
      "['+', '_', ')', '*', '^', '@', '~', ')']\n"
     ]
    }
   ],
   "source": [
    "chars = \"+_)(*&^%$#@!~)\"\n",
    "\n",
    "# ord는 해당 입력의 유니코드를 반환해주는 class이다.\n",
    "print(type(ord))\n",
    "code_list = [ord(s) for s in chars]\n",
    "code_list2 = list(filter(lambda x: x>40, map(ord, chars)))\n",
    "\n",
    "print(code_list)\n",
    "print(code_list2)\n",
    "print()\n",
    "\n",
    "# ord의 역함수가 chr이다\n",
    "print([chr(s) for s in code_list2])"
   ]
  },
  {
   "cell_type": "code",
   "execution_count": 2,
   "metadata": {},
   "outputs": [
    {
     "name": "stdout",
     "output_type": "stream",
     "text": [
      "<class 'generator'>\n"
     ]
    }
   ],
   "source": [
    "import array\n",
    "\n",
    "# tuple 형태로 들어가면 이건 튜플이 아니라 generator 형태로 반환된다. \n",
    "tuple_g = (ord(s) for s in chars)\n",
    "print(type(tuple_g))\n",
    "\n",
    "# 반면에 아래는 array로 모든 정보가 메모리에 다 올라간다.\n",
    "array_g = array.array('I', (ord(s) for s in chars))"
   ]
  },
  {
   "cell_type": "code",
   "execution_count": 3,
   "metadata": {},
   "outputs": [
    {
     "name": "stdout",
     "output_type": "stream",
     "text": [
      "['A1', 'A2', 'A3', 'A4', 'A5', 'A6', 'A7', 'A8', 'A9', 'A10', 'B1', 'B2', 'B3', 'B4', 'B5', 'B6', 'B7', 'B8', 'B9', 'B10', 'C1', 'C2', 'C3', 'C4', 'C5', 'C6', 'C7', 'C8', 'C9', 'C10', 'D1', 'D2', 'D3', 'D4', 'D5', 'D6', 'D7', 'D8', 'D9', 'D10']\n",
      "<generator object <genexpr> at 0x7faff6aac430>\n"
     ]
    }
   ],
   "source": [
    "# 이렇게 하면 출력이 된다.\n",
    "print(['%s' % c + str(n) for c in ['A', 'B', 'C', 'D'] for n in range(1, 11)])\n",
    "\n",
    "# 이러면 하나도 출력이 안 된다. generator 그 자체가 출력된다\n",
    "print(('%s' % c + str(n) for c in ['A', 'B', 'C', 'D'] for n in range(1, 11)))"
   ]
  },
  {
   "cell_type": "code",
   "execution_count": 4,
   "metadata": {},
   "outputs": [
    {
     "name": "stdout",
     "output_type": "stream",
     "text": [
      "[['~', '~', '~', '~', '~'], ['~', '~', '~', '~', '~'], ['~', '~', '~', '~', '~'], ['~', '~', '~', '~', '~'], ['~', '~', '~', '~', '~']]\n",
      "[['~', '~', '~', '~', '~'], ['~', '~', '~', '~', '~'], ['~', '~', '~', '~', '~'], ['~', '~', '~', '~', '~'], ['~', '~', '~', '~', '~']]\n",
      "[['~', 'X', '~', '~', '~'], ['~', '~', '~', '~', '~'], ['~', '~', '~', '~', '~'], ['~', '~', '~', '~', '~'], ['~', '~', '~', '~', '~']]\n",
      "[['~', 'X', '~', '~', '~'], ['~', 'X', '~', '~', '~'], ['~', 'X', '~', '~', '~'], ['~', 'X', '~', '~', '~'], ['~', 'X', '~', '~', '~']]\n",
      "[140393734806144, 140393734803520, 140393734662656, 140393734348608, 140393734810624]\n",
      "[140393734359808, 140393734359808, 140393734359808, 140393734359808, 140393734359808]\n"
     ]
    }
   ],
   "source": [
    "# 리스트 주의\n",
    "marks1 = [['~'] * 5 for n in range(5)]\n",
    "\n",
    "# 아래는 참조 문법\n",
    "# 동일 memory를 출력만 여러번 하는 것\n",
    "marks2 = [['~'] * 5] * 5\n",
    "\n",
    "print(marks1)\n",
    "print(marks2)\n",
    "\n",
    "# 수정\n",
    "marks1[0][1] = 'X'\n",
    "marks2[0][1] = 'X'\n",
    "\n",
    "print(marks1)\n",
    "print(marks2)\n",
    "\n",
    "# 따라서 id값이 다르다\n",
    "# 증명\n",
    "print([id(i) for i in marks1])\n",
    "print([id(i) for i in marks2])\n"
   ]
  },
  {
   "cell_type": "code",
   "execution_count": null,
   "metadata": {},
   "outputs": [
    {
     "name": "stdout",
     "output_type": "stream",
     "text": [
      "(11, 1)\n",
      "(11, 1)\n",
      "11 1\n",
      "\n",
      "0 1 [2, 3, 4, 5, 6, 7, 8, 9]\n"
     ]
    }
   ],
   "source": [
    "# *을 사용하여 함수의 인자로 넣으면 tuple을 unpacking한다.\n",
    "# * 문법은 함수인자로 들어갈 때 unpacking을 한다.\n",
    "print(divmod(100,9))\n",
    "print(divmod(*(100,9)))\n",
    "print(*divmod(100,9))\n",
    "print()\n",
    "\n",
    "# 인자로 받을 때에도 *을 사용하면 나머지를 list에 넣는다.\n",
    "x, y, *rest = range(10)\n",
    "print(x, y, rest)"
   ]
  },
  {
   "cell_type": "code",
   "execution_count": null,
   "metadata": {},
   "outputs": [
    {
     "name": "stdout",
     "output_type": "stream",
     "text": [
      "(15, 20, 25) 140393734818880\n",
      "[15, 20, 25] 140393734300544\n",
      "140393734696192\n",
      "140393734300544\n",
      "140393734766448\n",
      "140393734300544\n",
      "\n",
      "\n"
     ]
    }
   ],
   "source": [
    "# Mutable(가변) vs Immutable(불변)\n",
    "# list는 수정이 가는한, mutable한 자료구조이므로 id값이 동일하다.\n",
    "\n",
    "l = (15, 20, 25)\n",
    "m = [15, 20, 25]\n",
    "\n",
    "print(l, id(l))\n",
    "print(m, id(m))\n",
    "\n",
    "l *= 2\n",
    "m *= 2\n",
    "\n",
    "print(id(l))\n",
    "print(id(m))\n",
    "\n",
    "l *= 2\n",
    "m *= 2\n",
    "\n",
    "print(id(l))\n",
    "print(id(m))\n",
    "\n",
    "print()\n",
    "print()\n"
   ]
  },
  {
   "cell_type": "code",
   "execution_count": 22,
   "metadata": {},
   "outputs": [
    {
     "name": "stdout",
     "output_type": "stream",
     "text": [
      "['apple', 'coconut', 'lemon', 'mango', 'orange', 'papaya', 'strawberry']\n",
      "['strawberry', 'papaya', 'orange', 'mango', 'lemon', 'coconut', 'apple']\n",
      "['apple', 'mango', 'lemon', 'orange', 'papaya', 'coconut', 'strawberry']\n",
      "['strawberry', 'coconut', 'orange', 'papaya', 'apple', 'mango', 'lemon']\n",
      "['papaya', 'orange', 'apple', 'lemon', 'mango', 'coconut', 'strawberry']\n",
      "['strawberry', 'coconut', 'mango', 'lemon', 'orange', 'apple', 'papaya']\n",
      "\n",
      "sort - None ['apple', 'coconut', 'lemon', 'mango', 'orange', 'papaya', 'strawberry']\n",
      "sort - None ['strawberry', 'papaya', 'orange', 'mango', 'lemon', 'coconut', 'apple']\n",
      "sort - None ['mango', 'lemon', 'apple', 'papaya', 'orange', 'coconut', 'strawberry']\n",
      "sort - None ['papaya', 'apple', 'orange', 'lemon', 'mango', 'coconut', 'strawberry']\n",
      "sort - None ['strawberry', 'coconut', 'mango', 'lemon', 'apple', 'orange', 'papaya']\n"
     ]
    }
   ],
   "source": [
    "# sort와 sorted의 차이\n",
    "# sort는 원래 id를 바꾸지 않아서, 원래 데이터를 수정한다.\n",
    "# sorted는 새로운 객체를 return한다.\n",
    "\n",
    "f_list = ['orange', 'apple', 'mango', 'papaya', 'lemon', 'strawberry', 'coconut']\n",
    "\n",
    "# sorted는 key에서 지정한 값을 기준으로 오름차순, 혹은 내림차순으로 정렬할 수 있다.\n",
    "# key값을 지정할 땐 lambda 함수로 사용하기도 한다. \n",
    "print(sorted(f_list))\n",
    "print(sorted(f_list, reverse=True))\n",
    "print(sorted(f_list, key=len))\n",
    "print(sorted(f_list, key=len, reverse=True))\n",
    "print(sorted(f_list, key=lambda x: x[-1]))\n",
    "print(sorted(f_list, key=lambda x: x[-1], reverse=True))\n",
    "print()\n",
    "\n",
    "print('sort -', f_list.sort(), f_list)\n",
    "print('sort -', f_list.sort(reverse=True), f_list)\n",
    "print('sort -', f_list.sort(key=len), f_list)\n",
    "print('sort -', f_list.sort(key=lambda x: x[-1]), f_list)\n",
    "print('sort -', f_list.sort(key=lambda x: x[-1], reverse=True), f_list)"
   ]
  },
  {
   "cell_type": "code",
   "execution_count": 27,
   "metadata": {},
   "outputs": [
    {
     "name": "stdout",
     "output_type": "stream",
     "text": [
      "465510690262297113\n",
      "{'k1': ['val1', 'val2'], 'k2': ['val3', 'val4', 'val5']}\n",
      "{'k1': ['val1', 'val2'], 'k2': ['val3', 'val4', 'val5']}\n"
     ]
    }
   ],
   "source": [
    "# hash값 확인\n",
    "# 리스트는 고유값이 없다. 수정이 가능한 것은 hash 값을 가질 수 없다.\n",
    "\n",
    "t1 = (10, 20, (30, 40, 50))\n",
    "t2 = (10, 20, [30, 40, 50])\n",
    "\n",
    "print(hash(t1))\n",
    "# 아래는 실행하면 unhashable type으로 출력이 된다. \n",
    "# print(hash(t2))\n",
    "\n",
    "# 동일한 key값에 다른 value를 dict에 넣을 거면, 두 가지 방법이 있다.\n",
    "# 여기선 Setdefault 방법으로 하길 권한다. \n",
    "source = (('k1', 'val1'),\n",
    "            ('k1', 'val2'),\n",
    "            ('k2', 'val3'),\n",
    "            ('k2', 'val4'),\n",
    "            ('k2', 'val5'))\n",
    "\n",
    "new_dict1, new_dict2 = {}, {}\n",
    "\n",
    "# 동일한 key값에 다른 value를 할당하는 보편적인 방법\n",
    "for k, v in source:\n",
    "    if k in new_dict1:\n",
    "        new_dict1[k].append(v)\n",
    "    else:\n",
    "        new_dict1[k] = [v]\n",
    "        \n",
    "# Use setdefault\n",
    "for k, v in source:\n",
    "    new_dict2.setdefault(k, []).append(v)\n",
    "    \n",
    "print(new_dict1)\n",
    "print(new_dict2)\n",
    "        "
   ]
  },
  {
   "cell_type": "code",
   "execution_count": 32,
   "metadata": {},
   "outputs": [
    {
     "name": "stdout",
     "output_type": "stream",
     "text": [
      "{'key1': 'value1'} 140393720910592\n",
      "{'key1': 'value1'} 140393734459104\n",
      "False\n"
     ]
    }
   ],
   "source": [
    "from types import MappingProxyType\n",
    "\n",
    "# dict 또한 수정 가능하기 때문에 추후 코드에서 수정이 될 위험성이 있다.\n",
    "# dict의 장점을 사용하면서, 수정 불가능하게 만드는 것 mappingproxytype이 있다.\n",
    "d = {'key1':'value1'}\n",
    "d_frozen = MappingProxyType(d)\n",
    "print(d, id(d))\n",
    "print(d, id(d_frozen))\n",
    "print(d is d_frozen)"
   ]
  },
  {
   "cell_type": "code",
   "execution_count": 34,
   "metadata": {},
   "outputs": [],
   "source": [
    "\n",
    "s1 = {'Apple', 'Orange', 'Apple', 'Orange', 'Kiwi'}\n",
    "s2 = set(['Apple', 'Orange', 'Apple', 'Orange', 'Kiwi'])\n",
    "s3 = {3}\n",
    "s4 = set() # Not {}\n",
    "s5 = frozenset({'Apple', 'Orange', 'Apple', 'Orange', 'Kiwi'})\n",
    "\n",
    "# 추가\n",
    "s1.add('Melon')\n",
    "\n",
    "# 추가 불가\n",
    "# s5.add('Melon')\n"
   ]
  },
  {
   "cell_type": "code",
   "execution_count": null,
   "metadata": {},
   "outputs": [],
   "source": []
  }
 ],
 "metadata": {
  "kernelspec": {
   "display_name": ".env",
   "language": "python",
   "name": "python3"
  },
  "language_info": {
   "codemirror_mode": {
    "name": "ipython",
    "version": 3
   },
   "file_extension": ".py",
   "mimetype": "text/x-python",
   "name": "python",
   "nbconvert_exporter": "python",
   "pygments_lexer": "ipython3",
   "version": "3.9.20"
  }
 },
 "nbformat": 4,
 "nbformat_minor": 2
}
