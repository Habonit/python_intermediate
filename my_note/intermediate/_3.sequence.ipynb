{
 "cells": [
  {
   "cell_type": "code",
   "execution_count": null,
   "metadata": {},
   "outputs": [
    {
     "name": "stdout",
     "output_type": "stream",
     "text": [
      "<class 'builtin_function_or_method'>\n",
      "[43, 95, 41, 40, 42, 38, 94, 37, 36, 35, 64, 33, 126, 41]\n",
      "[43, 95, 41, 42, 94, 64, 126, 41]\n",
      "\n",
      "['+', '_', ')', '*', '^', '@', '~', ')']\n"
     ]
    }
   ],
   "source": [
    "chars = \"+_)(*&^%$#@!~)\"\n",
    "\n",
    "# ord는 해당 입력의 유니코드를 반환해주는 class이다.\n",
    "print(type(ord))\n",
    "code_list = [ord(s) for s in chars]\n",
    "code_list2 = list(filter(lambda x: x>40, map(ord, chars)))\n",
    "\n",
    "print(code_list)\n",
    "print(code_list2)\n",
    "print()\n",
    "# ord의 역함수가 chr이다\n",
    "print([chr(s) for s in code_list2])"
   ]
  },
  {
   "cell_type": "code",
   "execution_count": null,
   "metadata": {},
   "outputs": [],
   "source": [
    "import array"
   ]
  }
 ],
 "metadata": {
  "kernelspec": {
   "display_name": ".env",
   "language": "python",
   "name": "python3"
  },
  "language_info": {
   "codemirror_mode": {
    "name": "ipython",
    "version": 3
   },
   "file_extension": ".py",
   "mimetype": "text/x-python",
   "name": "python",
   "nbconvert_exporter": "python",
   "pygments_lexer": "ipython3",
   "version": "3.9.20"
  }
 },
 "nbformat": 4,
 "nbformat_minor": 2
}
